{
  "nbformat": 4,
  "nbformat_minor": 0,
  "metadata": {
    "colab": {
      "provenance": [],
      "collapsed_sections": [],
      "include_colab_link": true
    },
    "kernelspec": {
      "name": "python3",
      "display_name": "Python 3"
    },
    "language_info": {
      "name": "python"
    }
  },
  "cells": [
    {
      "cell_type": "markdown",
      "metadata": {
        "id": "view-in-github",
        "colab_type": "text"
      },
      "source": [
        "<a href=\"https://colab.research.google.com/github/eysteinn13/bert-skh/blob/main/Copy_of_Copy_of_contentImageSimilarity.ipynb\" target=\"_parent\"><img src=\"https://colab.research.google.com/assets/colab-badge.svg\" alt=\"Open In Colab\"/></a>"
      ]
    },
    {
      "cell_type": "code",
      "source": [
        "#@title\n",
        "!git clone https://github.com/eysteinn13/bert-skh.git"
      ],
      "metadata": {
        "id": "s_6bGH3ZMlQN",
        "cellView": "form"
      },
      "execution_count": null,
      "outputs": []
    },
    {
      "cell_type": "code",
      "execution_count": null,
      "metadata": {
        "id": "MXgOIUH87ziu",
        "cellView": "form"
      },
      "outputs": [],
      "source": [
        "#@title\n",
        "%pip install scikit-learn sentence-transformers"
      ]
    },
    {
      "cell_type": "code",
      "source": [
        "#@title\n",
        "from sklearn.metrics.pairwise import cosine_similarity\n",
        "from sentence_transformers import SentenceTransformer\n",
        "import json"
      ],
      "metadata": {
        "id": "iC3T0Wgj8qx5",
        "cellView": "form"
      },
      "execution_count": 5,
      "outputs": []
    },
    {
      "cell_type": "code",
      "source": [
        "#@title\n",
        "import zipfile\n",
        "\n",
        "def get_descriptions():\n",
        "    with open(\"bert-skh/new_desc.json\", \"r\") as fp:\n",
        "        return json.load(fp)\n",
        "\n",
        "\n",
        "def get_embeddings():\n",
        "    with zipfile.ZipFile(\"bert-skh/embeddings.json.zip\", 'r') as zip_ref:\n",
        "        zip_ref.extractall(\"bert-skh/\")\n",
        "        with open(\"bert-skh/embeddings.json\", 'r') as unzipped:\n",
        "            return json.load(unzipped)\n",
        "\n",
        "\n",
        "def get_images():\n",
        "    with open(\"bert-skh/images.json\", \"r\") as fp:\n",
        "        return json.load(fp)\n"
      ],
      "metadata": {
        "id": "a5kP_j558kR-",
        "cellView": "form"
      },
      "execution_count": 6,
      "outputs": []
    },
    {
      "cell_type": "code",
      "source": [
        "#@title\n",
        "def calc_similarity(new_embedding, n=10):\n",
        "    embeddings = get_embeddings()\n",
        "    results = {}\n",
        "    for key, embedding in embeddings.items():\n",
        "        results[key] = cosine_similarity([new_embedding], [embedding])[0][0]\n",
        "    top_results = sorted(results, key=results.get)[::-1]\n",
        "    return top_results[:n]"
      ],
      "metadata": {
        "id": "y2c2ifzY8uQ2",
        "cellView": "form"
      },
      "execution_count": 7,
      "outputs": []
    },
    {
      "cell_type": "code",
      "source": [
        "#@title\n",
        "from IPython.display import Image, display\n",
        "from IPython.core.display import HTML \n",
        "\n",
        "def get_most_similar_images(text_input: str, n=5):\n",
        "    model = SentenceTransformer('bert-base-nli-mean-tokens')\n",
        "    input_embedding = model.encode(text_input)\n",
        "    most_similar = calc_similarity(input_embedding, n)\n",
        "    images = get_images()\n",
        "    descriptions = get_descriptions()\n",
        "    found = []\n",
        "    for similar in most_similar:\n",
        "        for image in images:\n",
        "            description_text = \"\"\n",
        "            if image['content_item_locale_id'] == similar:\n",
        "                for desc in descriptions:\n",
        "                    if desc['content_item_locale_id'] == similar:\n",
        "                        description_text = desc['content_item_value']\n",
        "                image_url = image['content_item_value']\n",
        "                if image['content_item_id'] not in found:\n",
        "                    found.append(image['content_item_id'])\n",
        "                    print(f\"Image: {image_url} - Description: {description_text} - ID: {image['content_item_id']} - Locale: {image['content_item_locale_id']}\")\n",
        "                    display(Image(url=image_url))"
      ],
      "metadata": {
        "id": "G7guDYxl8wjP",
        "cellView": "form"
      },
      "execution_count": 22,
      "outputs": []
    },
    {
      "cell_type": "markdown",
      "source": [
        "Change the text in the input field and then click the \"play\" button to the left of it"
      ],
      "metadata": {
        "id": "-N1nSm5Cm16S"
      }
    },
    {
      "cell_type": "code",
      "source": [
        "text = 'happy wife happy life' #@param {type:\"string\"}\n",
        "get_most_similar_images(\"happy wife happy life\", n=10)"
      ],
      "metadata": {
        "colab": {
          "base_uri": "https://localhost:8080/",
          "height": 1000
        },
        "id": "nNqv16JD8yvV",
        "outputId": "5abf7893-2105-4c71-8f23-07fbf01e0a48",
        "cellView": "form"
      },
      "execution_count": 23,
      "outputs": [
        {
          "output_type": "stream",
          "name": "stdout",
          "text": [
            "Image: https://storage.googleapis.com/glmsidekicklive_cms/imageCardItem/12630/en/image.jpg?v=1660057336966 - Description: To many, success means achieving goals. Promotions at work, nice homes, and strong romantic relationships are all considered measures of success by society.  - ID: 12630 - Locale: 40151\n"
          ]
        },
        {
          "output_type": "display_data",
          "data": {
            "text/html": [
              "<img src=\"https://storage.googleapis.com/glmsidekicklive_cms/imageCardItem/12630/en/image.jpg?v=1660057336966\"/>"
            ],
            "text/plain": [
              "<IPython.core.display.Image object>"
            ]
          },
          "metadata": {}
        },
        {
          "output_type": "stream",
          "name": "stdout",
          "text": [
            "Image: https://storage.googleapis.com/glmsidekicklive_cms/imageCardItem/3792/en/image.png?v=1636038320656 - Description: Consistency is key to good results. That means keeping your skin happy even when it looks clear and you feel cured. - ID: 3792 - Locale: 19643\n"
          ]
        },
        {
          "output_type": "display_data",
          "data": {
            "text/html": [
              "<img src=\"https://storage.googleapis.com/glmsidekicklive_cms/imageCardItem/3792/en/image.png?v=1636038320656\"/>"
            ],
            "text/plain": [
              "<IPython.core.display.Image object>"
            ]
          },
          "metadata": {}
        },
        {
          "output_type": "stream",
          "name": "stdout",
          "text": [
            "Image: https://storage.googleapis.com/glmsidekicklive_cms/imageCardItem/6289/en/image.jpg?v=1647624407092 - Description: Gratitude means noticing positive outcomes in life. Being thankful for the things you have, tangible and intangible. Showing appreciation for kindness and returning it. - ID: 6289 - Locale: 14715\n"
          ]
        },
        {
          "output_type": "display_data",
          "data": {
            "text/html": [
              "<img src=\"https://storage.googleapis.com/glmsidekicklive_cms/imageCardItem/6289/en/image.jpg?v=1647624407092\"/>"
            ],
            "text/plain": [
              "<IPython.core.display.Image object>"
            ]
          },
          "metadata": {}
        },
        {
          "output_type": "stream",
          "name": "stdout",
          "text": [
            "Image: https://storage.googleapis.com/glmsidekicklive_cms/imageCardItem/4583/en/image.jpg?v=1640012149907 - Description: You?ll soon find this routine itself becomes satisfying. The anticipation and action of marking off a successful day will feel good. And that may keep you motivated.\n",
            " - ID: 4583 - Locale: 11294\n"
          ]
        },
        {
          "output_type": "display_data",
          "data": {
            "text/html": [
              "<img src=\"https://storage.googleapis.com/glmsidekicklive_cms/imageCardItem/4583/en/image.jpg?v=1640012149907\"/>"
            ],
            "text/plain": [
              "<IPython.core.display.Image object>"
            ]
          },
          "metadata": {}
        },
        {
          "output_type": "stream",
          "name": "stdout",
          "text": [
            "Image: https://storage.googleapis.com/glmsidekicklive_cms/imageCardItem/8382/en/image.jpg?v=1650375940752 - Description: You?ll soon find this routine itself becomes satisfying. The anticipation and action of marking off a successful day will feel good. And that may keep you motivated. - ID: 8382 - Locale: 17203\n"
          ]
        },
        {
          "output_type": "display_data",
          "data": {
            "text/html": [
              "<img src=\"https://storage.googleapis.com/glmsidekicklive_cms/imageCardItem/8382/en/image.jpg?v=1650375940752\"/>"
            ],
            "text/plain": [
              "<IPython.core.display.Image object>"
            ]
          },
          "metadata": {}
        },
        {
          "output_type": "stream",
          "name": "stdout",
          "text": [
            "Image: https://storage.googleapis.com/glmsidekicklive_cms/imageCardItem/8514/en/image.jpg?v=1650624901496 - Description: You?ll soon find this routine itself becomes satisfying. The anticipation and action of marking off a successful day will feel good. And that may keep you motivated. - ID: 8514 - Locale: 17342\n"
          ]
        },
        {
          "output_type": "display_data",
          "data": {
            "text/html": [
              "<img src=\"https://storage.googleapis.com/glmsidekicklive_cms/imageCardItem/8514/en/image.jpg?v=1650624901496\"/>"
            ],
            "text/plain": [
              "<IPython.core.display.Image object>"
            ]
          },
          "metadata": {}
        },
        {
          "output_type": "stream",
          "name": "stdout",
          "text": [
            "Image: https://storage.googleapis.com/glmsidekicklive_cms/imageCardItem/13323/en/image.jpg?v=1662758322969 - Description: When blood sugar levels are steady, life is great! Your brain feels safe, allowing you to feel and perform at your best. - ID: 13323 - Locale: 42345\n"
          ]
        },
        {
          "output_type": "display_data",
          "data": {
            "text/html": [
              "<img src=\"https://storage.googleapis.com/glmsidekicklive_cms/imageCardItem/13323/en/image.jpg?v=1662758322969\"/>"
            ],
            "text/plain": [
              "<IPython.core.display.Image object>"
            ]
          },
          "metadata": {}
        }
      ]
    },
    {
      "cell_type": "code",
      "source": [],
      "metadata": {
        "id": "l821BnULlXR1"
      },
      "execution_count": null,
      "outputs": []
    }
  ]
}