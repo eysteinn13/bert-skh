{
  "nbformat": 4,
  "nbformat_minor": 0,
  "metadata": {
    "colab": {
      "provenance": [],
      "collapsed_sections": [],
      "include_colab_link": true
    },
    "kernelspec": {
      "name": "python3",
      "display_name": "Python 3"
    },
    "language_info": {
      "name": "python"
    }
  },
  "cells": [
    {
      "cell_type": "markdown",
      "metadata": {
        "id": "view-in-github",
        "colab_type": "text"
      },
      "source": [
        "<a href=\"https://colab.research.google.com/github/eysteinn13/bert-skh/blob/main/contentImageSimilarity.ipynb\" target=\"_parent\"><img src=\"https://colab.research.google.com/assets/colab-badge.svg\" alt=\"Open In Colab\"/></a>"
      ]
    },
    {
      "cell_type": "code",
      "source": [
        "!git clone https://github.com/eysteinn13/bert-skh.git"
      ],
      "metadata": {
        "id": "s_6bGH3ZMlQN",
        "outputId": "d95132ff-90bb-4067-a11b-648abce06d19",
        "colab": {
          "base_uri": "https://localhost:8080/"
        }
      },
      "execution_count": 1,
      "outputs": [
        {
          "output_type": "stream",
          "name": "stdout",
          "text": [
            "Cloning into 'bert-skh'...\n",
            "remote: Enumerating objects: 12, done.\u001b[K\n",
            "remote: Counting objects: 100% (12/12), done.\u001b[K\n",
            "remote: Compressing objects: 100% (11/11), done.\u001b[K\n",
            "remote: Total 12 (delta 2), reused 0 (delta 0), pack-reused 0\u001b[K\n",
            "Unpacking objects: 100% (12/12), done.\n"
          ]
        }
      ]
    },
    {
      "cell_type": "markdown",
      "source": [
        "Welcome to this notebook\n"
      ],
      "metadata": {
        "id": "8tlQ7qFQ7_k4"
      }
    },
    {
      "cell_type": "code",
      "execution_count": null,
      "metadata": {
        "id": "MXgOIUH87ziu"
      },
      "outputs": [],
      "source": [
        "%pip install scikit-learn sentence-transformers"
      ]
    },
    {
      "cell_type": "code",
      "source": [
        "from sklearn.metrics.pairwise import cosine_similarity\n",
        "from sentence_transformers import SentenceTransformer\n",
        "import json"
      ],
      "metadata": {
        "id": "iC3T0Wgj8qx5"
      },
      "execution_count": 4,
      "outputs": []
    },
    {
      "cell_type": "code",
      "source": [
        "import zipfile\n",
        "\n",
        "def get_descriptions():\n",
        "    with open(\"bert-skh/new_desc.json\", \"r\") as fp:\n",
        "        return json.load(fp)\n",
        "\n",
        "\n",
        "def get_embeddings():\n",
        "    with zipfile.ZipFile(\"bert-skh/embeddings.json.zip\", 'r') as zip_ref:\n",
        "        zip_ref.extractall(\"bert-skh/\")\n",
        "        with open(\"bert-skh/embeddings.json\", 'r') as unzipped:\n",
        "            return json.load(unzipped)\n",
        "\n",
        "\n",
        "def get_images():\n",
        "    with open(\"bert-skh/images.json\", \"r\") as fp:\n",
        "        return json.load(fp)\n"
      ],
      "metadata": {
        "id": "a5kP_j558kR-"
      },
      "execution_count": 5,
      "outputs": []
    },
    {
      "cell_type": "code",
      "source": [
        "def calc_similarity(new_embedding, n=10):\n",
        "    embeddings = get_embeddings()\n",
        "    results = {}\n",
        "    for key, embedding in embeddings.items():\n",
        "        results[key] = cosine_similarity([new_embedding], [embedding])[0][0]\n",
        "    top_results = sorted(results, key=results.get)[::-1]\n",
        "    return top_results[:n]"
      ],
      "metadata": {
        "id": "y2c2ifzY8uQ2"
      },
      "execution_count": 6,
      "outputs": []
    },
    {
      "cell_type": "code",
      "source": [
        "def get_most_similar_images(text_input: str, n=5):\n",
        "    model = SentenceTransformer('bert-base-nli-mean-tokens')\n",
        "    input_embedding = model.encode(text_input)\n",
        "    most_similar = calc_similarity(input_embedding, n)\n",
        "    images = get_images()\n",
        "    descriptions = get_descriptions()\n",
        "    found = []\n",
        "    for similar in most_similar:\n",
        "        for image in images:\n",
        "            description_text = \"\"\n",
        "            if image['content_item_locale_id'] == similar:\n",
        "                for desc in descriptions:\n",
        "                    if desc['content_item_locale_id'] == similar:\n",
        "                        description_text = desc['content_item_value']\n",
        "                image_url = image['content_item_value']\n",
        "                if image['content_item_id'] not in found:\n",
        "                    found.append(image['content_item_id'])\n",
        "                    print(f\"Image: {image_url} - Description: {description_text} - ID: {image['content_item_id']} - Locale: {image['content_item_locale_id']}\")"
      ],
      "metadata": {
        "id": "G7guDYxl8wjP"
      },
      "execution_count": 7,
      "outputs": []
    },
    {
      "cell_type": "code",
      "source": [
        "get_most_similar_images(\"Happy wife happy life\", n=10)"
      ],
      "metadata": {
        "colab": {
          "base_uri": "https://localhost:8080/"
        },
        "id": "nNqv16JD8yvV",
        "outputId": "23d4660a-720d-4ed0-8177-79b3b7346488"
      },
      "execution_count": 9,
      "outputs": [
        {
          "output_type": "stream",
          "name": "stdout",
          "text": [
            "Image: https://storage.googleapis.com/glmsidekicklive_cms/imageCardItem/12630/en/image.jpg?v=1660057336966 - Description: To many, success means achieving goals. Promotions at work, nice homes, and strong romantic relationships are all considered measures of success by society.  - ID: 12630 - Locale: 40151\n",
            "Image: https://storage.googleapis.com/glmsidekicklive_cms/imageCardItem/3792/en/image.png?v=1636038320656 - Description: Consistency is key to good results. That means keeping your skin happy even when it looks clear and you feel cured. - ID: 3792 - Locale: 19643\n",
            "Image: https://storage.googleapis.com/glmsidekicklive_cms/imageCardItem/6289/en/image.jpg?v=1647624407092 - Description: Gratitude means noticing positive outcomes in life. Being thankful for the things you have, tangible and intangible. Showing appreciation for kindness and returning it. - ID: 6289 - Locale: 14715\n",
            "Image: https://storage.googleapis.com/glmsidekicklive_cms/imageCardItem/4583/en/image.jpg?v=1640012149907 - Description: You?ll soon find this routine itself becomes satisfying. The anticipation and action of marking off a successful day will feel good. And that may keep you motivated.\n",
            " - ID: 4583 - Locale: 11294\n",
            "Image: https://storage.googleapis.com/glmsidekicklive_cms/imageCardItem/8382/en/image.jpg?v=1650375940752 - Description: You?ll soon find this routine itself becomes satisfying. The anticipation and action of marking off a successful day will feel good. And that may keep you motivated. - ID: 8382 - Locale: 17203\n",
            "Image: https://storage.googleapis.com/glmsidekicklive_cms/imageCardItem/8514/en/image.jpg?v=1650624901496 - Description: You?ll soon find this routine itself becomes satisfying. The anticipation and action of marking off a successful day will feel good. And that may keep you motivated. - ID: 8514 - Locale: 17342\n",
            "Image: https://storage.googleapis.com/glmsidekicklive_cms/imageCardItem/13323/en/image.jpg?v=1662758322969 - Description: When blood sugar levels are steady, life is great! Your brain feels safe, allowing you to feel and perform at your best. - ID: 13323 - Locale: 42345\n"
          ]
        }
      ]
    },
    {
      "cell_type": "code",
      "source": [],
      "metadata": {
        "id": "E4IB8Xk898hp"
      },
      "execution_count": null,
      "outputs": []
    }
  ]
}